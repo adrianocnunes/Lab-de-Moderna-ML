{
 "cells": [
  {
   "cell_type": "code",
   "execution_count": 106,
   "id": "39c5eb8c",
   "metadata": {},
   "outputs": [],
   "source": [
    "#bibliotecas\n",
    "import pandas as pd\n",
    "import numpy as np\n",
    "import seaborn as sns\n",
    "import matplotlib.pyplot as plt\n",
    "from sklearn.model_selection import train_test_split\n",
    "from sklearn.linear_model import LinearRegression\n",
    "%matplotlib inline"
   ]
  },
  {
   "cell_type": "markdown",
   "id": "69df1f17",
   "metadata": {},
   "source": [
    "## Chamaremos a tabela que iremos trabalhar pela biblioteca PANDAS"
   ]
  },
  {
   "cell_type": "code",
   "execution_count": 107,
   "id": "e42afdd1",
   "metadata": {},
   "outputs": [],
   "source": [
    "dispersao = pd.read_csv('experimento01_dispersao.csv',sep=';', decimal=',')"
   ]
  },
  {
   "cell_type": "code",
   "execution_count": 108,
   "id": "af757a8d",
   "metadata": {},
   "outputs": [
    {
     "data": {
      "text/html": [
       "<div>\n",
       "<style scoped>\n",
       "    .dataframe tbody tr th:only-of-type {\n",
       "        vertical-align: middle;\n",
       "    }\n",
       "\n",
       "    .dataframe tbody tr th {\n",
       "        vertical-align: top;\n",
       "    }\n",
       "\n",
       "    .dataframe thead th {\n",
       "        text-align: right;\n",
       "    }\n",
       "</style>\n",
       "<table border=\"1\" class=\"dataframe\">\n",
       "  <thead>\n",
       "    <tr style=\"text-align: right;\">\n",
       "      <th></th>\n",
       "      <th>Lambda (nm)</th>\n",
       "      <th>Elemento</th>\n",
       "      <th>Cor</th>\n",
       "      <th>Lambda (m)</th>\n",
       "      <th>1/(Lambda)²</th>\n",
       "      <th>Ângulo e Minuto</th>\n",
       "      <th>Ângulo</th>\n",
       "      <th>Radianos</th>\n",
       "      <th>n</th>\n",
       "      <th>Delta n</th>\n",
       "      <th>Lambda (nm).1</th>\n",
       "    </tr>\n",
       "  </thead>\n",
       "  <tbody>\n",
       "    <tr>\n",
       "      <th>0</th>\n",
       "      <td>404.66</td>\n",
       "      <td>Hg</td>\n",
       "      <td>violeta</td>\n",
       "      <td>4.046600e-07</td>\n",
       "      <td>6.106880e+12</td>\n",
       "      <td>51°24'</td>\n",
       "      <td>51.40</td>\n",
       "      <td>0.897099</td>\n",
       "      <td>1.652194</td>\n",
       "      <td>0.000310</td>\n",
       "      <td>404.66</td>\n",
       "    </tr>\n",
       "    <tr>\n",
       "      <th>1</th>\n",
       "      <td>435.83</td>\n",
       "      <td>Hg</td>\n",
       "      <td>azul</td>\n",
       "      <td>4.358300e-07</td>\n",
       "      <td>5.264600e+12</td>\n",
       "      <td>50°32'</td>\n",
       "      <td>50.53</td>\n",
       "      <td>0.881915</td>\n",
       "      <td>1.643590</td>\n",
       "      <td>0.000308</td>\n",
       "      <td>407.78</td>\n",
       "    </tr>\n",
       "    <tr>\n",
       "      <th>2</th>\n",
       "      <td>467.81</td>\n",
       "      <td>Cd</td>\n",
       "      <td>azul escuro</td>\n",
       "      <td>4.678100e-07</td>\n",
       "      <td>4.569420e+12</td>\n",
       "      <td>49°45'</td>\n",
       "      <td>49.75</td>\n",
       "      <td>0.868301</td>\n",
       "      <td>1.635795</td>\n",
       "      <td>0.000306</td>\n",
       "      <td>546.07</td>\n",
       "    </tr>\n",
       "    <tr>\n",
       "      <th>3</th>\n",
       "      <td>468.01</td>\n",
       "      <td>Zn</td>\n",
       "      <td>azul escuro</td>\n",
       "      <td>4.680100e-07</td>\n",
       "      <td>4.565510e+12</td>\n",
       "      <td>49°45'</td>\n",
       "      <td>49.75</td>\n",
       "      <td>0.868301</td>\n",
       "      <td>1.635795</td>\n",
       "      <td>0.000306</td>\n",
       "      <td>578.01</td>\n",
       "    </tr>\n",
       "    <tr>\n",
       "      <th>4</th>\n",
       "      <td>472.21</td>\n",
       "      <td>Zn</td>\n",
       "      <td>azul médio</td>\n",
       "      <td>4.722100e-07</td>\n",
       "      <td>4.484660e+12</td>\n",
       "      <td>49°40'</td>\n",
       "      <td>49.66</td>\n",
       "      <td>0.866731</td>\n",
       "      <td>1.634891</td>\n",
       "      <td>0.000306</td>\n",
       "      <td>467.81</td>\n",
       "    </tr>\n",
       "    <tr>\n",
       "      <th>5</th>\n",
       "      <td>479.99</td>\n",
       "      <td>Cd</td>\n",
       "      <td>azul claro</td>\n",
       "      <td>4.799900e-07</td>\n",
       "      <td>4.340460e+12</td>\n",
       "      <td>49°31'</td>\n",
       "      <td>49.51</td>\n",
       "      <td>0.864113</td>\n",
       "      <td>1.633382</td>\n",
       "      <td>0.000305</td>\n",
       "      <td>479.99</td>\n",
       "    </tr>\n",
       "    <tr>\n",
       "      <th>6</th>\n",
       "      <td>481.05</td>\n",
       "      <td>Zn</td>\n",
       "      <td>azul claro</td>\n",
       "      <td>4.810500e-07</td>\n",
       "      <td>4.321350e+12</td>\n",
       "      <td>49°31'</td>\n",
       "      <td>49.51</td>\n",
       "      <td>0.864113</td>\n",
       "      <td>1.633382</td>\n",
       "      <td>0.000305</td>\n",
       "      <td>508.58</td>\n",
       "    </tr>\n",
       "    <tr>\n",
       "      <th>7</th>\n",
       "      <td>508.58</td>\n",
       "      <td>Cd</td>\n",
       "      <td>verde</td>\n",
       "      <td>5.085800e-07</td>\n",
       "      <td>3.866170e+12</td>\n",
       "      <td>49°05'</td>\n",
       "      <td>49.08</td>\n",
       "      <td>0.856608</td>\n",
       "      <td>1.629039</td>\n",
       "      <td>0.000304</td>\n",
       "      <td>643.85</td>\n",
       "    </tr>\n",
       "    <tr>\n",
       "      <th>8</th>\n",
       "      <td>546.07</td>\n",
       "      <td>Hg</td>\n",
       "      <td>verde</td>\n",
       "      <td>5.460700e-07</td>\n",
       "      <td>3.353540e+12</td>\n",
       "      <td>48°37'</td>\n",
       "      <td>48.61</td>\n",
       "      <td>0.848405</td>\n",
       "      <td>1.624267</td>\n",
       "      <td>0.000303</td>\n",
       "      <td>468.01</td>\n",
       "    </tr>\n",
       "    <tr>\n",
       "      <th>9</th>\n",
       "      <td>578.01</td>\n",
       "      <td>Hg</td>\n",
       "      <td>amarelo</td>\n",
       "      <td>5.780100e-07</td>\n",
       "      <td>2.993160e+12</td>\n",
       "      <td>48°17'</td>\n",
       "      <td>48.28</td>\n",
       "      <td>0.842645</td>\n",
       "      <td>1.620900</td>\n",
       "      <td>0.000302</td>\n",
       "      <td>472.21</td>\n",
       "    </tr>\n",
       "    <tr>\n",
       "      <th>10</th>\n",
       "      <td>636.23</td>\n",
       "      <td>Zn</td>\n",
       "      <td>vermelho</td>\n",
       "      <td>6.362300e-07</td>\n",
       "      <td>2.470430e+12</td>\n",
       "      <td>47°58'</td>\n",
       "      <td>47.96</td>\n",
       "      <td>0.837060</td>\n",
       "      <td>1.617622</td>\n",
       "      <td>0.000301</td>\n",
       "      <td>481.05</td>\n",
       "    </tr>\n",
       "    <tr>\n",
       "      <th>11</th>\n",
       "      <td>643.85</td>\n",
       "      <td>Cd</td>\n",
       "      <td>vermelho</td>\n",
       "      <td>6.438500e-07</td>\n",
       "      <td>2.412300e+12</td>\n",
       "      <td>47°50'</td>\n",
       "      <td>47.83</td>\n",
       "      <td>0.834791</td>\n",
       "      <td>1.616286</td>\n",
       "      <td>0.000301</td>\n",
       "      <td>636.23</td>\n",
       "    </tr>\n",
       "  </tbody>\n",
       "</table>\n",
       "</div>"
      ],
      "text/plain": [
       "    Lambda (nm) Elemento          Cor    Lambda (m)   1/(Lambda)²  \\\n",
       "0        404.66       Hg      violeta  4.046600e-07  6.106880e+12   \n",
       "1        435.83       Hg         azul  4.358300e-07  5.264600e+12   \n",
       "2        467.81       Cd  azul escuro  4.678100e-07  4.569420e+12   \n",
       "3        468.01       Zn  azul escuro  4.680100e-07  4.565510e+12   \n",
       "4        472.21       Zn   azul médio  4.722100e-07  4.484660e+12   \n",
       "5        479.99       Cd   azul claro  4.799900e-07  4.340460e+12   \n",
       "6        481.05       Zn   azul claro  4.810500e-07  4.321350e+12   \n",
       "7        508.58       Cd        verde  5.085800e-07  3.866170e+12   \n",
       "8        546.07       Hg        verde  5.460700e-07  3.353540e+12   \n",
       "9        578.01       Hg      amarelo  5.780100e-07  2.993160e+12   \n",
       "10       636.23       Zn     vermelho  6.362300e-07  2.470430e+12   \n",
       "11       643.85       Cd     vermelho  6.438500e-07  2.412300e+12   \n",
       "\n",
       "   Ângulo e Minuto  Ângulo  Radianos         n   Delta n  Lambda (nm).1  \n",
       "0           51°24'   51.40  0.897099  1.652194  0.000310         404.66  \n",
       "1           50°32'   50.53  0.881915  1.643590  0.000308         407.78  \n",
       "2           49°45'   49.75  0.868301  1.635795  0.000306         546.07  \n",
       "3           49°45'   49.75  0.868301  1.635795  0.000306         578.01  \n",
       "4           49°40'   49.66  0.866731  1.634891  0.000306         467.81  \n",
       "5           49°31'   49.51  0.864113  1.633382  0.000305         479.99  \n",
       "6           49°31'   49.51  0.864113  1.633382  0.000305         508.58  \n",
       "7           49°05'   49.08  0.856608  1.629039  0.000304         643.85  \n",
       "8           48°37'   48.61  0.848405  1.624267  0.000303         468.01  \n",
       "9           48°17'   48.28  0.842645  1.620900  0.000302         472.21  \n",
       "10          47°58'   47.96  0.837060  1.617622  0.000301         481.05  \n",
       "11          47°50'   47.83  0.834791  1.616286  0.000301         636.23  "
      ]
     },
     "execution_count": 108,
     "metadata": {},
     "output_type": "execute_result"
    }
   ],
   "source": [
    "dispersao.head(15)"
   ]
  },
  {
   "cell_type": "markdown",
   "id": "4403c524",
   "metadata": {},
   "source": [
    "## Iremos definir quem será nosso eixo \"x\" e \"y\" para construirmos nosso primeiro gráfico"
   ]
  },
  {
   "cell_type": "code",
   "execution_count": 109,
   "id": "084292e5",
   "metadata": {},
   "outputs": [],
   "source": [
    "x = dispersao['1/(Lambda)²']\n",
    "y = dispersao['n']"
   ]
  },
  {
   "cell_type": "code",
   "execution_count": 110,
   "id": "28ab118a",
   "metadata": {},
   "outputs": [
    {
     "data": {
      "text/plain": [
       "Text(0, 0.5, 'n')"
      ]
     },
     "execution_count": 110,
     "metadata": {},
     "output_type": "execute_result"
    },
    {
     "data": {
      "image/png": "[encoded data removed]",
      "text/plain": [
       "<Figure size 432x288 with 1 Axes>"
      ]
     },
     "metadata": {
      "needs_background": "light"
     },
     "output_type": "display_data"
    }
   ],
   "source": [
    "plt.scatter(x,y)\n",
    "plt.xlabel('1/(Lambda)²')\n",
    "plt.ylabel('n')"
   ]
  },
  {
   "cell_type": "markdown",
   "id": "1905b385",
   "metadata": {},
   "source": [
    "## Iremos treinar nossos dados para calcularmos qual será o nosso coeficiente angular e o linear"
   ]
  },
  {
   "cell_type": "code",
   "execution_count": 111,
   "id": "f3224667",
   "metadata": {},
   "outputs": [],
   "source": [
    "x = dispersao[['1/(Lambda)²']]\n",
    "y = dispersao['n']"
   ]
  },
  {
   "cell_type": "code",
   "execution_count": 112,
   "id": "2d240ee4",
   "metadata": {},
   "outputs": [],
   "source": [
    "x_train, x_test, y_train, y_test = train_test_split(x, y, test_size=0.33, random_state=42)"
   ]
  },
  {
   "cell_type": "code",
   "execution_count": 113,
   "id": "df6de579",
   "metadata": {},
   "outputs": [],
   "source": [
    "lm = LinearRegression()"
   ]
  },
  {
   "cell_type": "code",
   "execution_count": 114,
   "id": "a932272f",
   "metadata": {},
   "outputs": [
    {
     "data": {
      "text/plain": [
       "LinearRegression()"
      ]
     },
     "execution_count": 114,
     "metadata": {},
     "output_type": "execute_result"
    }
   ],
   "source": [
    "lm.fit(x_train, y_train)"
   ]
  },
  {
   "cell_type": "code",
   "execution_count": 115,
   "id": "e3deb7e6",
   "metadata": {},
   "outputs": [
    {
     "name": "stdout",
     "output_type": "stream",
     "text": [
      "[9.38187224e-15]\n"
     ]
    }
   ],
   "source": [
    "#Coeficiente angular\n",
    "b = lm.coef_\n",
    "print(b)"
   ]
  },
  {
   "cell_type": "code",
   "execution_count": 116,
   "id": "f3259588",
   "metadata": {
    "scrolled": true
   },
   "outputs": [
    {
     "name": "stdout",
     "output_type": "stream",
     "text": [
      "1.5931028929727913\n"
     ]
    }
   ],
   "source": [
    "#Coeficiente Linear\n",
    "a = lm.intercept_\n",
    "print(a)"
   ]
  },
  {
   "cell_type": "markdown",
   "id": "9d40b9e7",
   "metadata": {},
   "source": [
    "## Gráfico fitado"
   ]
  },
  {
   "cell_type": "code",
   "execution_count": 117,
   "id": "6bdbaa3b",
   "metadata": {},
   "outputs": [
    {
     "data": {
      "text/plain": [
       "<seaborn.axisgrid.FacetGrid at 0x13a6f9611c0>"
      ]
     },
     "execution_count": 117,
     "metadata": {},
     "output_type": "execute_result"
    },
    {
     "data": {
      "image/png": "[encoded data removed]",
      "text/plain": [
       "<Figure size 360x360 with 1 Axes>"
      ]
     },
     "metadata": {
      "needs_background": "light"
     },
     "output_type": "display_data"
    }
   ],
   "source": [
    "sns.lmplot(x='1/(Lambda)²', y='n',data=dispersao)"
   ]
  },
  {
   "cell_type": "markdown",
   "id": "9afea9b8",
   "metadata": {},
   "source": [
    "## Definiremos um novo \"x\" e \"y\" para constrir outro gráfico"
   ]
  },
  {
   "cell_type": "code",
   "execution_count": 118,
   "id": "f0608d3c",
   "metadata": {},
   "outputs": [],
   "source": [
    "x = dispersao['Lambda (m)']\n",
    "y = dispersao['n']"
   ]
  },
  {
   "cell_type": "code",
   "execution_count": 119,
   "id": "6281716e",
   "metadata": {},
   "outputs": [
    {
     "data": {
      "text/plain": [
       "Text(0, 0.5, 'n')"
      ]
     },
     "execution_count": 119,
     "metadata": {},
     "output_type": "execute_result"
    },
    {
     "data": {
      "image/png": "[encoded data removed]",
      "text/plain": [
       "<Figure size 432x288 with 1 Axes>"
      ]
     },
     "metadata": {
      "needs_background": "light"
     },
     "output_type": "display_data"
    }
   ],
   "source": [
    "plt.scatter(x,y)\n",
    "plt.xlabel('Lambda (m)')\n",
    "plt.ylabel('n')"
   ]
  },
  {
   "cell_type": "markdown",
   "id": "e0a42c83",
   "metadata": {},
   "source": [
    "## Aplicaremos a função n=a+b/lambda^2 no nosso gráfico"
   ]
  },
  {
   "cell_type": "code",
   "execution_count": 120,
   "id": "0b725556",
   "metadata": {},
   "outputs": [],
   "source": [
    "def f(x):\n",
    "    return b*x + a"
   ]
  },
  {
   "cell_type": "code",
   "execution_count": 122,
   "id": "9f29c3d5",
   "metadata": {},
   "outputs": [
    {
     "data": {
      "text/plain": [
       "[<matplotlib.lines.Line2D at 0x13a70ad36d0>]"
      ]
     },
     "execution_count": 122,
     "metadata": {},
     "output_type": "execute_result"
    },
    {
     "data": {
      "image/png": "[encoded data removed]",
      "text/plain": [
       "<Figure size 432x288 with 1 Axes>"
      ]
     },
     "metadata": {
      "needs_background": "light"
     },
     "output_type": "display_data"
    }
   ],
   "source": [
    "plt.scatter(x,y)\n",
    "plt.xlabel('Lambda (m)')\n",
    "plt.ylabel('n')\n",
    "plt.plot(x,f(1/(x**2)))"
   ]
  }
 ],
 "metadata": {
  "kernelspec": {
   "display_name": "Python 3 (ipykernel)",
   "language": "python",
   "name": "python3"
  },
  "language_info": {
   "codemirror_mode": {
    "name": "ipython",
    "version": 3
   },
   "file_extension": ".py",
   "mimetype": "text/x-python",
   "name": "python",
   "nbconvert_exporter": "python",
   "pygments_lexer": "ipython3",
   "version": "3.9.12"
  }
 },
 "nbformat": 4,
 "nbformat_minor": 5
}
